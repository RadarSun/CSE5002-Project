{
 "cells": [
  {
   "cell_type": "markdown",
   "metadata": {},
   "source": [
    "# Mini Project\n",
    "# Part 2: Classification using attribute dataset but not adjacent dataset\n",
    "Author: Zhicong Sun  \n",
    "SID: 12032471  \n",
    "Date: 2021.5.6\n",
    "## 1 Read dataset and assign feature names to dataset"
   ]
  },
  {
   "cell_type": "code",
   "execution_count": 1,
   "metadata": {},
   "outputs": [],
   "source": [
    "# import basic module\n",
    "import numpy as np\n",
    "import pandas as pd"
   ]
  },
  {
   "cell_type": "code",
   "execution_count": 2,
   "metadata": {
    "tags": []
   },
   "outputs": [
    {
     "output_type": "stream",
     "name": "stdout",
     "text": [
      "feature names:  ['feature1', 'feature2', 'feature3', 'feature4', 'feature5', 'feature6'] \n\n\ndata.head:\n    feature1  feature2  feature3  feature4  feature5  feature6\n0         1         2         8        22         0     23574\n1         2         2        15        14       229         0\n2         1         1         3         0       237      9976\n3         2         2         3         0       230     19776\n4         1         2         6         0       229     17097 \n\ntrain data: \n    feature1  feature2  feature3  feature4  feature5  feature6\n0         1         2         8        22         0     23574\n1         2         2        15        14       229         0\n2         1         1         3         0       237      9976\n3         2         2         3         0       230     19776\n4         1         2         6         0       229     17097 \n\nshape of train data:  (4000, 6) \n\ntrain label:\n     label\n0   2009\n1   2004\n2   2008\n3   2002\n4   2007 \n\nshape of train label:  (4000, 1) \n\ntest data:\n     feature1  feature2  feature3  feature4  feature5  feature6\n0         2         1         7        23       268      2584\n1         1         2         8         0       235     50908\n2         1         2        16         0       261      3737\n3         5         1         6         0       280         0\n4         5         2         3         0       283      4481 \n\nshape of test data:  (1298, 6) \n\ntest label: \n    label\n0   2005\n1   2008\n2   2006\n3   2005\n4   2005 \n\nshape of test label:  (1298, 1) \n\n"
     ]
    }
   ],
   "source": [
    "# read data from txt file, and then assign a feature name to each column of data set, test set and label\n",
    "attr_data = pd.read_csv(\"attr.csv\",header = None,usecols = [1,2,3,4,5,6])\n",
    "feature_names = []\n",
    "for i in range(attr_data.shape[1]):\n",
    "    feature_names.append(\"feature\" + str(i+1))\n",
    "attr_data = pd.read_csv(\"attr.csv\",header = None,usecols = [1,2,3,4,5,6],names=feature_names)\n",
    "train_data = pd.read_csv(\"attr.csv\",header = None,usecols = [1,2,3,4,5,6],nrows=4000,names=feature_names)\n",
    "train_label = pd.read_csv(\"label_train.csv\",header=None,usecols = [1],names=[\"label\"])\n",
    "test_data = pd.read_csv(\"attr.csv\",header = None,usecols = [1,2,3,4,5,6],skiprows = 4000,nrows=1298,names=feature_names)\n",
    "test_label = pd.read_csv(\"label_test.csv\",header=None,usecols = [1],names=[\"label\"])\n",
    "\n",
    "\n",
    "print(\"feature names: \",feature_names,\"\\n\")\n",
    "print(\"\\ndata.head:\\n\",attr_data.head(),\"\\n\")\n",
    "print(\"train data: \\n\",train_data.head(),\"\\n\")\n",
    "print(\"shape of train data: \",train_data.shape,\"\\n\")\n",
    "print(\"train label:\\n \",train_label.head(),\"\\n\")\n",
    "print(\"shape of train label: \",train_label.shape,\"\\n\")\n",
    "print(\"test data:\\n \",test_data.head(),\"\\n\")\n",
    "print(\"shape of test data: \",test_data.shape,\"\\n\")\n",
    "print(\"test label: \\n\",test_label.head(),\"\\n\")\n",
    "print(\"shape of test label: \",test_label.shape,\"\\n\")\n"
   ]
  },
  {
   "source": [
    "## 2 Divide features into categorical value and continous value\n"
   ],
   "cell_type": "markdown",
   "metadata": {}
  },
  {
   "cell_type": "code",
   "execution_count": 3,
   "metadata": {},
   "outputs": [
    {
     "output_type": "stream",
     "name": "stdout",
     "text": [
      "---------------------------\nfeature1 : [1 2 5 3 6 4]\n---------------------------\nfeature2 : [2 1 0]\n---------------------------\nfeature3 : [ 8 15  3  6  7 10  0 14  2 18 16  1  9 13 12 29 39  5 30 27  4 17 33 24\n 25 31 44 22 11 28 34 32 26 41 20 43 21 23 37 35 42 19 40]\n---------------------------\nfeature4 : [22 14  0 10  6  7 15 24 28  9 30  3 25 23 18 29  4 16 36 41 26  8 13  5\n 17 12  1  2 31 27 34 11 19 33 37 21 43 35 20 39 44 32 40]\n---------------------------\nfeature5 : [  0 229 237 230 286 268 283 236 227 228 274 275 256 231 255 258 278 241\n 251 261 240 233 276 254 246 265 247 232 285 244 264 253 242 272 250 234\n 270 257 260 259 245 249 267 248 235 262 280 284 266 243 263 288 282 269\n 271 252 239 279 290 281 287 289 273 238]\n---------------------------\nfeature6 : [23574     0  9976 ... 53700  9884 53767]\n\ncategorical features: ['feature1', 'feature2']\n\ncontinous_val features: ['feature3', 'feature4', 'feature5', 'feature6']\n"
     ]
    }
   ],
   "source": [
    "# divide features into categorical value and continous value\n",
    "categorical_val = []\n",
    "continous_val = []\n",
    "for column in train_data.columns:\n",
    "    print('---------------------------')\n",
    "    print(f\"{column} : {train_data[column].unique()}\")\n",
    "    if len(train_data[column].unique()) <= 10:\n",
    "        categorical_val.append(column)\n",
    "    else:\n",
    "        continous_val.append(column)\n",
    "print(\"\\ncategorical features:\",categorical_val)\n",
    "print(\"\\ncontinous_val features:\",continous_val)"
   ]
  },
  {
   "cell_type": "markdown",
   "metadata": {},
   "source": [
    "## 3 Dummy coding of categorical features"
   ]
  },
  {
   "cell_type": "code",
   "execution_count": 4,
   "metadata": {},
   "outputs": [
    {
     "output_type": "stream",
     "name": "stdout",
     "text": [
      "(5298, 13)\n(4000, 13)\n(1298, 13)\n"
     ]
    }
   ],
   "source": [
    "# dummy coding of categorical features\n",
    "total_data = pd.concat([train_data,test_data],axis = 0)\n",
    "total_dataset = pd.get_dummies(total_data, columns = categorical_val)\n",
    "print(total_dataset.shape)\n",
    "train_dataset = total_dataset[0:4000][:]\n",
    "print(train_dataset.shape)\n",
    "test_dataset = total_dataset[4000:][:]\n",
    "print(test_dataset.shape)"
   ]
  },
  {
   "cell_type": "markdown",
   "metadata": {},
   "source": [
    "## 4 Features scaling of continous features"
   ]
  },
  {
   "cell_type": "code",
   "execution_count": 5,
   "metadata": {},
   "outputs": [
    {
     "output_type": "execute_result",
     "data": {
      "text/plain": [
       "   feature3  feature4  feature5  feature6  feature1_1  feature1_2  feature1_3  \\\n",
       "0 -0.138214  1.416387 -2.405891  0.269229           1           0           0   \n",
       "1  0.782334  0.629505  0.247000 -1.002596           0           1           0   \n",
       "2 -0.795748 -0.747538  0.339677 -0.464387           1           0           0   \n",
       "3 -0.795748 -0.747538  0.258584  0.064326           0           1           0   \n",
       "4 -0.401227 -0.747538  0.247000 -0.080207           1           0           0   \n",
       "\n",
       "   feature1_4  feature1_5  feature1_6  feature2_0  feature2_1  feature2_2  \n",
       "0           0           0           0           0           0           1  \n",
       "1           0           0           0           0           0           1  \n",
       "2           0           0           0           0           1           0  \n",
       "3           0           0           0           0           0           1  \n",
       "4           0           0           0           0           0           1  "
      ],
      "text/html": "<div>\n<style scoped>\n    .dataframe tbody tr th:only-of-type {\n        vertical-align: middle;\n    }\n\n    .dataframe tbody tr th {\n        vertical-align: top;\n    }\n\n    .dataframe thead th {\n        text-align: right;\n    }\n</style>\n<table border=\"1\" class=\"dataframe\">\n  <thead>\n    <tr style=\"text-align: right;\">\n      <th></th>\n      <th>feature3</th>\n      <th>feature4</th>\n      <th>feature5</th>\n      <th>feature6</th>\n      <th>feature1_1</th>\n      <th>feature1_2</th>\n      <th>feature1_3</th>\n      <th>feature1_4</th>\n      <th>feature1_5</th>\n      <th>feature1_6</th>\n      <th>feature2_0</th>\n      <th>feature2_1</th>\n      <th>feature2_2</th>\n    </tr>\n  </thead>\n  <tbody>\n    <tr>\n      <th>0</th>\n      <td>-0.138214</td>\n      <td>1.416387</td>\n      <td>-2.405891</td>\n      <td>0.269229</td>\n      <td>1</td>\n      <td>0</td>\n      <td>0</td>\n      <td>0</td>\n      <td>0</td>\n      <td>0</td>\n      <td>0</td>\n      <td>0</td>\n      <td>1</td>\n    </tr>\n    <tr>\n      <th>1</th>\n      <td>0.782334</td>\n      <td>0.629505</td>\n      <td>0.247000</td>\n      <td>-1.002596</td>\n      <td>0</td>\n      <td>1</td>\n      <td>0</td>\n      <td>0</td>\n      <td>0</td>\n      <td>0</td>\n      <td>0</td>\n      <td>0</td>\n      <td>1</td>\n    </tr>\n    <tr>\n      <th>2</th>\n      <td>-0.795748</td>\n      <td>-0.747538</td>\n      <td>0.339677</td>\n      <td>-0.464387</td>\n      <td>1</td>\n      <td>0</td>\n      <td>0</td>\n      <td>0</td>\n      <td>0</td>\n      <td>0</td>\n      <td>0</td>\n      <td>1</td>\n      <td>0</td>\n    </tr>\n    <tr>\n      <th>3</th>\n      <td>-0.795748</td>\n      <td>-0.747538</td>\n      <td>0.258584</td>\n      <td>0.064326</td>\n      <td>0</td>\n      <td>1</td>\n      <td>0</td>\n      <td>0</td>\n      <td>0</td>\n      <td>0</td>\n      <td>0</td>\n      <td>0</td>\n      <td>1</td>\n    </tr>\n    <tr>\n      <th>4</th>\n      <td>-0.401227</td>\n      <td>-0.747538</td>\n      <td>0.247000</td>\n      <td>-0.080207</td>\n      <td>1</td>\n      <td>0</td>\n      <td>0</td>\n      <td>0</td>\n      <td>0</td>\n      <td>0</td>\n      <td>0</td>\n      <td>0</td>\n      <td>1</td>\n    </tr>\n  </tbody>\n</table>\n</div>"
     },
     "metadata": {},
     "execution_count": 5
    }
   ],
   "source": [
    "# standardization\n",
    "from sklearn.preprocessing import StandardScaler\n",
    "standard_scaler = StandardScaler()\n",
    "data_aft_stdsscsl = train_dataset\n",
    "data_aft_stdsscsl[continous_val] = standard_scaler.fit_transform(train_dataset[continous_val])\n",
    "data_aft_stdsscsl.head()"
   ]
  },
  {
   "cell_type": "markdown",
   "metadata": {},
   "source": [
    "## 5 The Model selction\n",
    "### 5.1 K Nearest Neighbor(KNN)"
   ]
  },
  {
   "cell_type": "code",
   "execution_count": 6,
   "metadata": {},
   "outputs": [],
   "source": [
    "from sklearn.metrics import accuracy_score,roc_curve,auc\n",
    "from sklearn.model_selection import cross_val_score,ShuffleSplit,cross_validate\n",
    "train_label = train_label.values.ravel()"
   ]
  },
  {
   "cell_type": "code",
   "execution_count": 7,
   "metadata": {},
   "outputs": [
    {
     "output_type": "stream",
     "name": "stdout",
     "text": [
      "Train accuracy of KNN: 52.25%\nTest accuracy of KNN: 29.99%\n"
     ]
    },
    {
     "output_type": "execute_result",
     "data": {
      "text/plain": [
       "  Model  Training Accuracy %  Testing Accuracy %\n",
       "0   KNN            52.245833             29.9875"
      ],
      "text/html": "<div>\n<style scoped>\n    .dataframe tbody tr th:only-of-type {\n        vertical-align: middle;\n    }\n\n    .dataframe tbody tr th {\n        vertical-align: top;\n    }\n\n    .dataframe thead th {\n        text-align: right;\n    }\n</style>\n<table border=\"1\" class=\"dataframe\">\n  <thead>\n    <tr style=\"text-align: right;\">\n      <th></th>\n      <th>Model</th>\n      <th>Training Accuracy %</th>\n      <th>Testing Accuracy %</th>\n    </tr>\n  </thead>\n  <tbody>\n    <tr>\n      <th>0</th>\n      <td>KNN</td>\n      <td>52.245833</td>\n      <td>29.9875</td>\n    </tr>\n  </tbody>\n</table>\n</div>"
     },
     "metadata": {},
     "execution_count": 7
    }
   ],
   "source": [
    "from sklearn.neighbors import KNeighborsClassifier\n",
    "clf_knn = KNeighborsClassifier()\n",
    "cv = ShuffleSplit(n_splits=10, test_size=0.4, random_state=0)\n",
    "scores = cross_validate(clf_knn,data_aft_stdsscsl,train_label,cv=cv,return_train_score=True)\n",
    "print(\"Train accuracy of KNN: {:.2f}%\".format(scores['train_score'].mean()*100))\n",
    "print(\"Test accuracy of KNN: {:.2f}%\".format(scores['test_score'].mean()*100))\n",
    "compare_models = pd.DataFrame(data=[[\"KNN\", scores['train_score'].mean()*100, scores['test_score'].mean()*100]],columns=['Model', 'Training Accuracy %', 'Testing Accuracy %'])\n",
    "compare_models"
   ]
  },
  {
   "cell_type": "markdown",
   "metadata": {},
   "source": [
    "### 5.2 Support Vector Machine (SVM)"
   ]
  },
  {
   "cell_type": "code",
   "execution_count": 8,
   "metadata": {},
   "outputs": [
    {
     "output_type": "stream",
     "name": "stdout",
     "text": [
      "Train accuracy of SVM: 39.11%\nTest accuracy of SVM: 31.67%\n"
     ]
    },
    {
     "output_type": "execute_result",
     "data": {
      "text/plain": [
       "  Model  Training Accuracy %  Testing Accuracy %\n",
       "0   KNN            52.245833            29.98750\n",
       "1   SVM            39.112500            31.66875"
      ],
      "text/html": "<div>\n<style scoped>\n    .dataframe tbody tr th:only-of-type {\n        vertical-align: middle;\n    }\n\n    .dataframe tbody tr th {\n        vertical-align: top;\n    }\n\n    .dataframe thead th {\n        text-align: right;\n    }\n</style>\n<table border=\"1\" class=\"dataframe\">\n  <thead>\n    <tr style=\"text-align: right;\">\n      <th></th>\n      <th>Model</th>\n      <th>Training Accuracy %</th>\n      <th>Testing Accuracy %</th>\n    </tr>\n  </thead>\n  <tbody>\n    <tr>\n      <th>0</th>\n      <td>KNN</td>\n      <td>52.245833</td>\n      <td>29.98750</td>\n    </tr>\n    <tr>\n      <th>1</th>\n      <td>SVM</td>\n      <td>39.112500</td>\n      <td>31.66875</td>\n    </tr>\n  </tbody>\n</table>\n</div>"
     },
     "metadata": {},
     "execution_count": 8
    }
   ],
   "source": [
    "from sklearn.svm import SVC\n",
    "clf_svm = SVC(random_state = 1)\n",
    "cv = ShuffleSplit(n_splits=10, test_size=0.4, random_state=0)\n",
    "scores = cross_validate(clf_svm,data_aft_stdsscsl,train_label,cv=cv,return_train_score=True)\n",
    "print(\"Train accuracy of SVM: {:.2f}%\".format(scores['train_score'].mean()*100))\n",
    "print(\"Test accuracy of SVM: {:.2f}%\".format(scores['test_score'].mean()*100))\n",
    "compare_model_1 = pd.DataFrame(data=[[\"SVM\", scores['train_score'].mean()*100, scores['test_score'].mean()*100]],columns=['Model', 'Training Accuracy %', 'Testing Accuracy %'])\n",
    "compare_models = compare_models.append(compare_model_1,ignore_index=True)\n",
    "compare_models"
   ]
  },
  {
   "cell_type": "markdown",
   "metadata": {},
   "source": [
    "### 5.3 Decision Tree"
   ]
  },
  {
   "cell_type": "code",
   "execution_count": 9,
   "metadata": {},
   "outputs": [
    {
     "output_type": "stream",
     "name": "stdout",
     "text": [
      "Train accuracy of Decision Tree: 98.80%\nTest accuracy of Decision Tree: 28.66%\n"
     ]
    },
    {
     "output_type": "execute_result",
     "data": {
      "text/plain": [
       "           Model  Training Accuracy %  Testing Accuracy %\n",
       "0            KNN            52.245833            29.98750\n",
       "1            SVM            39.112500            31.66875\n",
       "2  Decision Tree            98.804167            28.65625"
      ],
      "text/html": "<div>\n<style scoped>\n    .dataframe tbody tr th:only-of-type {\n        vertical-align: middle;\n    }\n\n    .dataframe tbody tr th {\n        vertical-align: top;\n    }\n\n    .dataframe thead th {\n        text-align: right;\n    }\n</style>\n<table border=\"1\" class=\"dataframe\">\n  <thead>\n    <tr style=\"text-align: right;\">\n      <th></th>\n      <th>Model</th>\n      <th>Training Accuracy %</th>\n      <th>Testing Accuracy %</th>\n    </tr>\n  </thead>\n  <tbody>\n    <tr>\n      <th>0</th>\n      <td>KNN</td>\n      <td>52.245833</td>\n      <td>29.98750</td>\n    </tr>\n    <tr>\n      <th>1</th>\n      <td>SVM</td>\n      <td>39.112500</td>\n      <td>31.66875</td>\n    </tr>\n    <tr>\n      <th>2</th>\n      <td>Decision Tree</td>\n      <td>98.804167</td>\n      <td>28.65625</td>\n    </tr>\n  </tbody>\n</table>\n</div>"
     },
     "metadata": {},
     "execution_count": 9
    }
   ],
   "source": [
    "from sklearn.tree import DecisionTreeClassifier\n",
    "clf_dtc = DecisionTreeClassifier()\n",
    "cv = ShuffleSplit(n_splits=10, test_size=0.4, random_state=0)\n",
    "scores = cross_validate(clf_dtc,data_aft_stdsscsl,train_label,cv=cv,return_train_score=True)\n",
    "print(\"Train accuracy of Decision Tree: {:.2f}%\".format(scores['train_score'].mean()*100))\n",
    "print(\"Test accuracy of Decision Tree: {:.2f}%\".format(scores['test_score'].mean()*100))\n",
    "compare_model_2 = pd.DataFrame(data=[[\"Decision Tree\", scores['train_score'].mean()*100, scores['test_score'].mean()*100]],columns=['Model', 'Training Accuracy %', 'Testing Accuracy %'])\n",
    "compare_models = compare_models.append(compare_model_2,ignore_index=True)\n",
    "compare_models"
   ]
  },
  {
   "cell_type": "markdown",
   "metadata": {},
   "source": [
    "### 5.4 Neural Netwrok"
   ]
  },
  {
   "cell_type": "code",
   "execution_count": 10,
   "metadata": {},
   "outputs": [
    {
     "output_type": "stream",
     "name": "stdout",
     "text": [
      "Train accuracy of Neural Network: 34.74%\nTest accuracy of Neural Network: 31.88%\n"
     ]
    },
    {
     "output_type": "execute_result",
     "data": {
      "text/plain": [
       "            Model  Training Accuracy %  Testing Accuracy %\n",
       "0             KNN            52.245833            29.98750\n",
       "1             SVM            39.112500            31.66875\n",
       "2   Decision Tree            98.804167            28.65625\n",
       "3  Neural Network            34.737500            31.88125"
      ],
      "text/html": "<div>\n<style scoped>\n    .dataframe tbody tr th:only-of-type {\n        vertical-align: middle;\n    }\n\n    .dataframe tbody tr th {\n        vertical-align: top;\n    }\n\n    .dataframe thead th {\n        text-align: right;\n    }\n</style>\n<table border=\"1\" class=\"dataframe\">\n  <thead>\n    <tr style=\"text-align: right;\">\n      <th></th>\n      <th>Model</th>\n      <th>Training Accuracy %</th>\n      <th>Testing Accuracy %</th>\n    </tr>\n  </thead>\n  <tbody>\n    <tr>\n      <th>0</th>\n      <td>KNN</td>\n      <td>52.245833</td>\n      <td>29.98750</td>\n    </tr>\n    <tr>\n      <th>1</th>\n      <td>SVM</td>\n      <td>39.112500</td>\n      <td>31.66875</td>\n    </tr>\n    <tr>\n      <th>2</th>\n      <td>Decision Tree</td>\n      <td>98.804167</td>\n      <td>28.65625</td>\n    </tr>\n    <tr>\n      <th>3</th>\n      <td>Neural Network</td>\n      <td>34.737500</td>\n      <td>31.88125</td>\n    </tr>\n  </tbody>\n</table>\n</div>"
     },
     "metadata": {},
     "execution_count": 10
    }
   ],
   "source": [
    "from sklearn.neural_network import MLPClassifier\n",
    "clf_neural_net = MLPClassifier(solver='sgd', alpha=1e-5,\n",
    "                    hidden_layer_sizes=(10,10,10), random_state=1,max_iter=10000)\n",
    "cv = ShuffleSplit(n_splits=10, test_size=0.4, random_state=0)\n",
    "scores = cross_validate(clf_neural_net,data_aft_stdsscsl,train_label.ravel(),cv=cv,return_train_score=True)\n",
    "print(\"Train accuracy of Neural Network: {:.2f}%\".format(scores['train_score'].mean()*100))\n",
    "print(\"Test accuracy of Neural Network: {:.2f}%\".format(scores['test_score'].mean()*100))\n",
    "compare_model_3 = pd.DataFrame(data=[[\"Neural Network\", scores['train_score'].mean()*100, scores['test_score'].mean()*100]],columns=['Model', 'Training Accuracy %', 'Testing Accuracy %'])\n",
    "compare_models = compare_models.append(compare_model_3,ignore_index=True)\n",
    "compare_models"
   ]
  },
  {
   "cell_type": "markdown",
   "metadata": {},
   "source": [
    "### 5.5 Ensembel Model "
   ]
  },
  {
   "cell_type": "code",
   "execution_count": 11,
   "metadata": {},
   "outputs": [
    {
     "output_type": "stream",
     "name": "stdout",
     "text": [
      "Train accuracy of Ensembel Model: 63.80%\nTest accuracy of Ensembel Model: 31.90%\n"
     ]
    },
    {
     "output_type": "execute_result",
     "data": {
      "text/plain": [
       "            Model  Training Accuracy %  Testing Accuracy %\n",
       "0             KNN            52.245833            29.98750\n",
       "1             SVM            39.112500            31.66875\n",
       "2   Decision Tree            98.804167            28.65625\n",
       "3  Neural Network            34.737500            31.88125\n",
       "4  Ensembel Model            63.804167            31.90000"
      ],
      "text/html": "<div>\n<style scoped>\n    .dataframe tbody tr th:only-of-type {\n        vertical-align: middle;\n    }\n\n    .dataframe tbody tr th {\n        vertical-align: top;\n    }\n\n    .dataframe thead th {\n        text-align: right;\n    }\n</style>\n<table border=\"1\" class=\"dataframe\">\n  <thead>\n    <tr style=\"text-align: right;\">\n      <th></th>\n      <th>Model</th>\n      <th>Training Accuracy %</th>\n      <th>Testing Accuracy %</th>\n    </tr>\n  </thead>\n  <tbody>\n    <tr>\n      <th>0</th>\n      <td>KNN</td>\n      <td>52.245833</td>\n      <td>29.98750</td>\n    </tr>\n    <tr>\n      <th>1</th>\n      <td>SVM</td>\n      <td>39.112500</td>\n      <td>31.66875</td>\n    </tr>\n    <tr>\n      <th>2</th>\n      <td>Decision Tree</td>\n      <td>98.804167</td>\n      <td>28.65625</td>\n    </tr>\n    <tr>\n      <th>3</th>\n      <td>Neural Network</td>\n      <td>34.737500</td>\n      <td>31.88125</td>\n    </tr>\n    <tr>\n      <th>4</th>\n      <td>Ensembel Model</td>\n      <td>63.804167</td>\n      <td>31.90000</td>\n    </tr>\n  </tbody>\n</table>\n</div>"
     },
     "metadata": {},
     "execution_count": 11
    }
   ],
   "source": [
    "from sklearn.ensemble import VotingClassifier\n",
    "clf_ensembel = VotingClassifier(estimators=[('knn',clf_knn), ('svm',clf_svm), ('decision tree',clf_dtc),('neural network',clf_neural_net)],voting='hard')\n",
    "cv = ShuffleSplit(n_splits=10, test_size=0.4, random_state=0)\n",
    "scores = cross_validate(clf_ensembel,data_aft_stdsscsl,train_label,cv=cv,return_train_score=True)\n",
    "print(\"Train accuracy of Ensembel Model: {:.2f}%\".format(scores['train_score'].mean()*100))\n",
    "print(\"Test accuracy of Ensembel Model: {:.2f}%\".format(scores['test_score'].mean()*100))\n",
    "compare_model_4 = pd.DataFrame(data=[[\"Ensembel Model\", scores['train_score'].mean()*100, scores['test_score'].mean()*100]],columns=['Model', 'Training Accuracy %', 'Testing Accuracy %'])\n",
    "compare_models = compare_models.append(compare_model_4,ignore_index=True)\n",
    "compare_models"
   ]
  },
  {
   "cell_type": "markdown",
   "metadata": {},
   "source": [
    "***\n",
    "**Note:**\n",
    "After comparing these models, in can be concluded that the ensembel model is the better one, and I choose it to predict the test label.\n",
    "***"
   ]
  },
  {
   "cell_type": "markdown",
   "metadata": {},
   "source": [
    "## 6 Final training and prediction  \n",
    "***\n",
    "**Note:**\n",
    "Now all the train data can be used to train the ensembel model, and the trained model will be used to predict the test data.\n",
    "***"
   ]
  },
  {
   "cell_type": "code",
   "execution_count": 12,
   "metadata": {},
   "outputs": [
    {
     "output_type": "execute_result",
     "data": {
      "text/plain": [
       "   feature3  feature4  feature5  feature6  feature1_1  feature1_2  feature1_3  \\\n",
       "0 -0.284773  1.567937  0.687503 -0.860418           0           1           0   \n",
       "1 -0.150409 -0.726406  0.299379  1.783446           1           0           0   \n",
       "2  0.924504 -0.726406  0.605173 -0.797336           1           0           0   \n",
       "3 -0.419138 -0.726406  0.828638 -1.001792           0           0           0   \n",
       "4 -0.822230 -0.726406  0.863922 -0.756631           0           0           0   \n",
       "\n",
       "   feature1_4  feature1_5  feature1_6  feature2_0  feature2_1  feature2_2  \n",
       "0           0           0           0           0           1           0  \n",
       "1           0           0           0           0           0           1  \n",
       "2           0           0           0           0           0           1  \n",
       "3           0           1           0           0           1           0  \n",
       "4           0           1           0           0           0           1  "
      ],
      "text/html": "<div>\n<style scoped>\n    .dataframe tbody tr th:only-of-type {\n        vertical-align: middle;\n    }\n\n    .dataframe tbody tr th {\n        vertical-align: top;\n    }\n\n    .dataframe thead th {\n        text-align: right;\n    }\n</style>\n<table border=\"1\" class=\"dataframe\">\n  <thead>\n    <tr style=\"text-align: right;\">\n      <th></th>\n      <th>feature3</th>\n      <th>feature4</th>\n      <th>feature5</th>\n      <th>feature6</th>\n      <th>feature1_1</th>\n      <th>feature1_2</th>\n      <th>feature1_3</th>\n      <th>feature1_4</th>\n      <th>feature1_5</th>\n      <th>feature1_6</th>\n      <th>feature2_0</th>\n      <th>feature2_1</th>\n      <th>feature2_2</th>\n    </tr>\n  </thead>\n  <tbody>\n    <tr>\n      <th>0</th>\n      <td>-0.284773</td>\n      <td>1.567937</td>\n      <td>0.687503</td>\n      <td>-0.860418</td>\n      <td>0</td>\n      <td>1</td>\n      <td>0</td>\n      <td>0</td>\n      <td>0</td>\n      <td>0</td>\n      <td>0</td>\n      <td>1</td>\n      <td>0</td>\n    </tr>\n    <tr>\n      <th>1</th>\n      <td>-0.150409</td>\n      <td>-0.726406</td>\n      <td>0.299379</td>\n      <td>1.783446</td>\n      <td>1</td>\n      <td>0</td>\n      <td>0</td>\n      <td>0</td>\n      <td>0</td>\n      <td>0</td>\n      <td>0</td>\n      <td>0</td>\n      <td>1</td>\n    </tr>\n    <tr>\n      <th>2</th>\n      <td>0.924504</td>\n      <td>-0.726406</td>\n      <td>0.605173</td>\n      <td>-0.797336</td>\n      <td>1</td>\n      <td>0</td>\n      <td>0</td>\n      <td>0</td>\n      <td>0</td>\n      <td>0</td>\n      <td>0</td>\n      <td>0</td>\n      <td>1</td>\n    </tr>\n    <tr>\n      <th>3</th>\n      <td>-0.419138</td>\n      <td>-0.726406</td>\n      <td>0.828638</td>\n      <td>-1.001792</td>\n      <td>0</td>\n      <td>0</td>\n      <td>0</td>\n      <td>0</td>\n      <td>1</td>\n      <td>0</td>\n      <td>0</td>\n      <td>1</td>\n      <td>0</td>\n    </tr>\n    <tr>\n      <th>4</th>\n      <td>-0.822230</td>\n      <td>-0.726406</td>\n      <td>0.863922</td>\n      <td>-0.756631</td>\n      <td>0</td>\n      <td>0</td>\n      <td>0</td>\n      <td>0</td>\n      <td>1</td>\n      <td>0</td>\n      <td>0</td>\n      <td>0</td>\n      <td>1</td>\n    </tr>\n  </tbody>\n</table>\n</div>"
     },
     "metadata": {},
     "execution_count": 12
    }
   ],
   "source": [
    "# features scaling of continous features using standardization\n",
    "standard_scaler = StandardScaler()\n",
    "test_data_aft_stdsscsl = test_dataset\n",
    "test_data_aft_stdsscsl[continous_val] = standard_scaler.fit_transform(test_dataset[continous_val])\n",
    "test_data_aft_stdsscsl.head()"
   ]
  },
  {
   "cell_type": "code",
   "execution_count": 13,
   "metadata": {},
   "outputs": [
    {
     "output_type": "stream",
     "name": "stdout",
     "text": [
      "predict labels:  [2005 2008 2006 ... 2007 2006 2004]\nAccuracy on test set:  31.124807395993837 %\n"
     ]
    }
   ],
   "source": [
    "# training and prediction\n",
    "clf_ensembel = VotingClassifier(estimators=[('knn',clf_knn), ('svm',clf_svm), ('decision tree',clf_dtc),('neural network',clf_neural_net)],voting='hard')\n",
    "clf_ensembel.fit(data_aft_stdsscsl,train_label)\n",
    "predict_label = clf_ensembel.predict(test_data_aft_stdsscsl)\n",
    "tmp_test_label = test_label.values\n",
    "changed_test_label = np.zeros(tmp_test_label.size)\n",
    "for i in range(tmp_test_label.size):\n",
    "    changed_test_label[i] = int(tmp_test_label[i][0])\n",
    "# print(changed_test_label)\n",
    "print(\"predict labels: \", predict_label)\n",
    "accuracy = float((predict_label == changed_test_label).astype(int).sum()) / float(changed_test_label.size)\n",
    "print(\"Accuracy on test set: \",accuracy*100,\"%\")\n",
    "np.savetxt(\"predict_testlabel_without_adjlist.txt\",predict_label)"
   ]
  },
  {
   "source": [
    "## 7 Disscuss the performance of this classifier\n"
   ],
   "cell_type": "markdown",
   "metadata": {}
  },
  {
   "cell_type": "code",
   "execution_count": 14,
   "metadata": {},
   "outputs": [
    {
     "output_type": "stream",
     "name": "stdout",
     "text": [
      "micro_precision: 0.31124807395993837\nmacro_precision: 0.10281796495576465\nweighted_precision: 0.2964209748846245\nmicro_f1_score: 0.31124807395993837\n"
     ]
    }
   ],
   "source": [
    "from sklearn.metrics import precision_score,f1_score\n",
    "micro_precision = precision_score(changed_test_label, predict_label, average=\"micro\")\n",
    "macro_precision = precision_score(changed_test_label, predict_label, average=\"macro\")\n",
    "weighted_precision = precision_score(changed_test_label, predict_label, average=\"weighted\")\n",
    "micro_f1_score = f1_score(changed_test_label, predict_label, average='micro')\n",
    "print(\"micro_precision:\", micro_precision)\n",
    "print(\"macro_precision:\", macro_precision)\n",
    "print(\"weighted_precision:\", weighted_precision)\n",
    "print(\"micro_f1_score:\", micro_f1_score)"
   ]
  }
 ],
 "metadata": {
  "kernelspec": {
   "name": "python3",
   "display_name": "Python 3",
   "language": "python"
  },
  "language_info": {
   "codemirror_mode": {
    "name": "ipython",
    "version": 3
   },
   "file_extension": ".py",
   "mimetype": "text/x-python",
   "name": "python",
   "nbconvert_exporter": "python",
   "pygments_lexer": "ipython3",
   "version": "3.8.5"
  }
 },
 "nbformat": 4,
 "nbformat_minor": 2
}